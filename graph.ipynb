{
  "nbformat": 4,
  "nbformat_minor": 0,
  "metadata": {
    "colab": {
      "provenance": []
    },
    "kernelspec": {
      "name": "python3",
      "display_name": "Python 3"
    },
    "language_info": {
      "name": "python"
    }
  },
  "cells": [
    {
      "cell_type": "code",
      "source": [
        "# Import Dependencies\n",
        "%matplotlib inline\n",
        "import networkx as nx\n",
        "import matplotlib.pyplot as plt"
      ],
      "metadata": {
        "id": "fXNhDOyIK1vF"
      },
      "execution_count": 108,
      "outputs": []
    },
    {
      "cell_type": "code",
      "source": [
        "# Create the Graph class with its methods.\n",
        "class Graph:\n",
        "  def __init__(self, nodes, edges, pos=[]):\n",
        "    self.nodes     = nodes\n",
        "    self.edges     = edges\n",
        "    self.pos       = pos\n",
        "    self.adj_dict  = self.create_adj_dict()\n",
        "    self.adj_matrix= self.create_adj_matrix()\n",
        "\n",
        "  def create_adj_dict(self):\n",
        "    adj_dict = {}\n",
        "    for start, dist, _ in self.edges:\n",
        "      if start in adj_dict:\n",
        "        adj_dict[start].append(dist)\n",
        "      else:\n",
        "        adj_dict[start] = [dist]\n",
        "    return adj_dict\n",
        "\n",
        "  def create_adj_matrix(self):\n",
        "    matrix = [[0 for _ in self.nodes] for i in self.nodes]\n",
        "    for route in self.edges:\n",
        "      start = self.nodes.index(route[0])\n",
        "      dist  = self.nodes.index(route[1])\n",
        "      matrix[start][dist] = route[2]\n",
        "    return matrix\n",
        "\n",
        "  def get_all_path(self, start, dist, path=[]):\n",
        "    path = path + [start]\n",
        "    if start == dist:\n",
        "      return [path]\n",
        "    paths= []\n",
        "    if start not in self.adj_dict:\n",
        "      return []\n",
        "    for vertex in self.adj_dict[start]:\n",
        "      if vertex not in path:\n",
        "        new_paths = self.get_all_path(vertex, dist, path)\n",
        "        for p in new_paths:\n",
        "          paths.append(p)\n",
        "    return paths\n",
        "\n",
        "  def distance(self, paths):\n",
        "    distance = 0\n",
        "    for i in range(len(paths)):\n",
        "      for j in range(len(paths[i])-1):\n",
        "        s_i = self.nodes.index(paths[i][j])\n",
        "        d_i = self.nodes.index(paths[i][j+1])\n",
        "        distance += self.adj_matrix[s_i][d_i]\n",
        "      paths[i].append(distance)\n",
        "      distance = 0\n",
        "    return paths\n",
        "\n",
        "  def get_all_path_cost(self, start, dist):\n",
        "    paths = self.get_all_path(start, dist)\n",
        "    paths = self.distance(paths)\n",
        "    return paths\n",
        "\n",
        "  def get_shortest_path(self, start, dist, path=[]):\n",
        "    path = path + [start]\n",
        "    if start == dist:\n",
        "      return path\n",
        "    if start not in self.adj_dict:\n",
        "      return None\n",
        "    shortest_path = None\n",
        "    for vertex in self.adj_dict[start]:\n",
        "      if vertex not in path:\n",
        "        n_sp = self.get_shortest_path(vertex, dist, path)\n",
        "        if n_sp:\n",
        "          if shortest_path is None or len(n_sp) < len(shortest_path):\n",
        "            shortest_path = n_sp\n",
        "    return shortest_path\n",
        "\n",
        "  def get_shortest_path_cost(self, start, dist):\n",
        "    path = [self.get_shortest_path(start, dist)]\n",
        "    path = self.distance(path)\n",
        "    return path\n",
        "\n",
        "  def draw_graph(self):\n",
        "    G = nx.DiGraph()\n",
        "    for i in range(len(self.nodes)):\n",
        "      for j in range(i, len(self.nodes)):\n",
        "        if self.adj_matrix[i][j]:\n",
        "          G.add_edge(self.nodes[i], self.nodes[j], weight=self.adj_matrix[i][j])\n",
        "\n",
        "    # group nodes by column\n",
        "    left_nodes  = self.nodes[:len(self.nodes)//4]\n",
        "    middle_nodes= self.nodes[len(self.nodes)//4:len(self.nodes)//2]\n",
        "    right_nodes = self.nodes[len(self.nodes)//2:]\n",
        "\n",
        "    # set the position according to column (x-coord)\n",
        "    if not self.pos:\n",
        "      self.pos = {n: (0, i) for i, n in enumerate(left_nodes)}\n",
        "      self.pos.update({n: (1, i + 0.5) for i, n in enumerate(middle_nodes)})\n",
        "      self.pos.update({n: (2, i + 0.5) for i, n in enumerate(right_nodes)})\n",
        "\n",
        "    # nodes\n",
        "    nx.draw_networkx_nodes(G, self.pos, node_size=400)\n",
        "    # node labels\n",
        "    nx.draw_networkx_labels(G, self.pos, font_size=10, font_family=\"sans-serif\")\n",
        "\n",
        "    # edges\n",
        "    elarge = [(u, v) for (u, v, d) in G.edges(data=True) if d[\"weight\"] > 0.5]\n",
        "    esmall = [(u, v) for (u, v, d) in G.edges(data=True) if d[\"weight\"] <= 0.5]\n",
        "    nx.draw_networkx_edges(G, self.pos, edgelist=elarge, width=3)\n",
        "    nx.draw_networkx_edges(\n",
        "        G, self.pos, edgelist=esmall, width=3, alpha=0.5, edge_color=\"b\", style=\"dashed\"\n",
        "    )\n",
        "    # edge weight labels\n",
        "    edge_labels = nx.get_edge_attributes(G, \"weight\")\n",
        "    nx.draw_networkx_edge_labels(G, self.pos, edge_labels)\n",
        "\n",
        "    ax = plt.gca()\n",
        "    ax.margins(0.08)\n",
        "    plt.axis(\"off\")\n",
        "    plt.tight_layout()\n",
        "    plt.show()"
      ],
      "metadata": {
        "id": "LNpiBGkcScWM"
      },
      "execution_count": 117,
      "outputs": []
    },
    {
      "cell_type": "code",
      "source": [
        "nodes= ['A', 'B', 'C', 'D', 'E', 'F']\n",
        "posations= {'A':(4,4), 'B':(8,2), 'C':(8,6), 'D':(12,2), 'E':(12,6), 'F':(16,4)}\n",
        "routes=[\n",
        "    ('A', 'B', 2),\n",
        "    ('A', 'C', 2),\n",
        "    ('B', 'C', 4),\n",
        "    ('B', 'D', 5),\n",
        "    ('B', 'E', 7),\n",
        "    ('C', 'E', 5),\n",
        "    ('D', 'E', 6),\n",
        "    ('D', 'F', 3),\n",
        "    ('E', 'F', 3),\n",
        "]"
      ],
      "metadata": {
        "id": "G450IccA2e0e"
      },
      "execution_count": 118,
      "outputs": []
    },
    {
      "cell_type": "code",
      "source": [
        "my_graph = Graph(nodes, routes, posations)"
      ],
      "metadata": {
        "id": "dWpMp90N-iYX"
      },
      "execution_count": 119,
      "outputs": []
    },
    {
      "cell_type": "code",
      "source": [
        "my_graph.draw_graph()"
      ],
      "metadata": {
        "colab": {
          "base_uri": "https://localhost:8080/",
          "height": 487
        },
        "id": "asxf1NaJFoYw",
        "outputId": "d4567c5d-4968-47e1-9599-c3e929148626"
      },
      "execution_count": 120,
      "outputs": [
        {
          "output_type": "display_data",
          "data": {
            "text/plain": [
              "<Figure size 640x480 with 1 Axes>"
            ],
            "image/png": "[encoded data removed]"
          },
          "metadata": {}
        }
      ]
    },
    {
      "cell_type": "code",
      "source": [
        "my_graph.adj_matrix"
      ],
      "metadata": {
        "colab": {
          "base_uri": "https://localhost:8080/"
        },
        "id": "Jk1PmEJxG4DI",
        "outputId": "471575c0-2431-421c-d5c1-aae188855d54"
      },
      "execution_count": 121,
      "outputs": [
        {
          "output_type": "execute_result",
          "data": {
            "text/plain": [
              "[[0, 2, 2, 0, 0, 0],\n",
              " [0, 0, 4, 5, 7, 0],\n",
              " [0, 0, 0, 0, 5, 0],\n",
              " [0, 0, 0, 0, 6, 3],\n",
              " [0, 0, 0, 0, 0, 3],\n",
              " [0, 0, 0, 0, 0, 0]]"
            ]
          },
          "metadata": {},
          "execution_count": 121
        }
      ]
    },
    {
      "cell_type": "code",
      "source": [
        "my_graph.adj_dict"
      ],
      "metadata": {
        "colab": {
          "base_uri": "https://localhost:8080/"
        },
        "id": "KxKoOFDJHZMA",
        "outputId": "f8e4cbc4-493c-4128-c034-ed20207c5b00"
      },
      "execution_count": 122,
      "outputs": [
        {
          "output_type": "execute_result",
          "data": {
            "text/plain": [
              "{'A': ['B', 'C'],\n",
              " 'B': ['C', 'D', 'E'],\n",
              " 'C': ['E'],\n",
              " 'D': ['E', 'F'],\n",
              " 'E': ['F']}"
            ]
          },
          "metadata": {},
          "execution_count": 122
        }
      ]
    },
    {
      "cell_type": "code",
      "source": [
        "my_graph.get_all_path_cost('A', 'F')"
      ],
      "metadata": {
        "colab": {
          "base_uri": "https://localhost:8080/"
        },
        "id": "SG_RyUKeJq4_",
        "outputId": "6aa72090-6919-49ab-8710-c0b717bffadf"
      },
      "execution_count": 123,
      "outputs": [
        {
          "output_type": "execute_result",
          "data": {
            "text/plain": [
              "[['A', 'B', 'C', 'E', 'F', 14],\n",
              " ['A', 'B', 'D', 'E', 'F', 16],\n",
              " ['A', 'B', 'D', 'F', 10],\n",
              " ['A', 'B', 'E', 'F', 12],\n",
              " ['A', 'C', 'E', 'F', 10]]"
            ]
          },
          "metadata": {},
          "execution_count": 123
        }
      ]
    },
    {
      "cell_type": "code",
      "source": [
        "my_graph.get_shortest_path_cost('A', 'F')"
      ],
      "metadata": {
        "colab": {
          "base_uri": "https://localhost:8080/"
        },
        "id": "0zCn6RexKOYJ",
        "outputId": "00a9798c-cb52-47f6-a217-2e7056b0b0c4"
      },
      "execution_count": 124,
      "outputs": [
        {
          "output_type": "execute_result",
          "data": {
            "text/plain": [
              "[['A', 'B', 'D', 'F', 10]]"
            ]
          },
          "metadata": {},
          "execution_count": 124
        }
      ]
    },
    {
      "cell_type": "code",
      "source": [],
      "metadata": {
        "id": "NV12dPBuReY_"
      },
      "execution_count": null,
      "outputs": []
    }
  ]
}